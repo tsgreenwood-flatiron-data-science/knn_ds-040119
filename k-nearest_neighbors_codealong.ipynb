{
 "cells": [
  {
   "cell_type": "markdown",
   "metadata": {},
   "source": [
    "# On k-Nearest Neighbors Modeling\n",
    "\n",
    "The idea of k-nearest neighbors is to make predictions about the values of your dependent variable of interest based on the values of that variable for _nearby_ points.\n",
    "\n",
    "We have a dataset of people who regularly check the weather. We're purveyors of SmartWatches, and we're interested in whether people would be likely to check their weather on their SmartWatch, if they had one.\n",
    "\n",
    "As predictors of this, we'll focus on gender and age group."
   ]
  },
  {
   "cell_type": "code",
   "execution_count": 9,
   "metadata": {},
   "outputs": [],
   "source": [
    "import pandas as pd\n",
    "from sklearn.model_selection import train_test_split\n",
    "from sklearn.neighbors import KNeighborsClassifier\n",
    "weather = pd.read_csv('weather-check.csv')"
   ]
  },
  {
   "cell_type": "code",
   "execution_count": 10,
   "metadata": {},
   "outputs": [
    {
     "data": {
      "text/html": [
       "<div>\n",
       "<style scoped>\n",
       "    .dataframe tbody tr th:only-of-type {\n",
       "        vertical-align: middle;\n",
       "    }\n",
       "\n",
       "    .dataframe tbody tr th {\n",
       "        vertical-align: top;\n",
       "    }\n",
       "\n",
       "    .dataframe thead th {\n",
       "        text-align: right;\n",
       "    }\n",
       "</style>\n",
       "<table border=\"1\" class=\"dataframe\">\n",
       "  <thead>\n",
       "    <tr style=\"text-align: right;\">\n",
       "      <th></th>\n",
       "      <th>RespondentID</th>\n",
       "      <th>Do you typically check a daily weather report?</th>\n",
       "      <th>How do you typically check the weather?</th>\n",
       "      <th>A specific website or app (please provide the answer)</th>\n",
       "      <th>If you had a smartwatch (like the soon to be released Apple Watch), how likely or unlikely would you be to check the weather on that device?</th>\n",
       "      <th>Age</th>\n",
       "      <th>What is your gender?</th>\n",
       "      <th>How much total combined money did all members of your HOUSEHOLD earn last year?</th>\n",
       "      <th>US Region</th>\n",
       "    </tr>\n",
       "  </thead>\n",
       "  <tbody>\n",
       "    <tr>\n",
       "      <th>0</th>\n",
       "      <td>3887201482</td>\n",
       "      <td>Yes</td>\n",
       "      <td>The default weather app on your phone</td>\n",
       "      <td>-</td>\n",
       "      <td>Very likely</td>\n",
       "      <td>30 - 44</td>\n",
       "      <td>Male</td>\n",
       "      <td>$50,000 to $74,999</td>\n",
       "      <td>South Atlantic</td>\n",
       "    </tr>\n",
       "    <tr>\n",
       "      <th>1</th>\n",
       "      <td>3887159451</td>\n",
       "      <td>Yes</td>\n",
       "      <td>The default weather app on your phone</td>\n",
       "      <td>-</td>\n",
       "      <td>Very likely</td>\n",
       "      <td>18 - 29</td>\n",
       "      <td>Male</td>\n",
       "      <td>Prefer not to answer</td>\n",
       "      <td>-</td>\n",
       "    </tr>\n",
       "    <tr>\n",
       "      <th>2</th>\n",
       "      <td>3887152228</td>\n",
       "      <td>Yes</td>\n",
       "      <td>The default weather app on your phone</td>\n",
       "      <td>-</td>\n",
       "      <td>Very likely</td>\n",
       "      <td>30 - 44</td>\n",
       "      <td>Male</td>\n",
       "      <td>$100,000 to $124,999</td>\n",
       "      <td>Middle Atlantic</td>\n",
       "    </tr>\n",
       "    <tr>\n",
       "      <th>3</th>\n",
       "      <td>3887145426</td>\n",
       "      <td>Yes</td>\n",
       "      <td>The default weather app on your phone</td>\n",
       "      <td>-</td>\n",
       "      <td>Somewhat likely</td>\n",
       "      <td>30 - 44</td>\n",
       "      <td>Male</td>\n",
       "      <td>Prefer not to answer</td>\n",
       "      <td>-</td>\n",
       "    </tr>\n",
       "    <tr>\n",
       "      <th>4</th>\n",
       "      <td>3887021873</td>\n",
       "      <td>Yes</td>\n",
       "      <td>A specific website or app (please provide the ...</td>\n",
       "      <td>Iphone app</td>\n",
       "      <td>Very likely</td>\n",
       "      <td>30 - 44</td>\n",
       "      <td>Male</td>\n",
       "      <td>$150,000 to $174,999</td>\n",
       "      <td>Middle Atlantic</td>\n",
       "    </tr>\n",
       "  </tbody>\n",
       "</table>\n",
       "</div>"
      ],
      "text/plain": [
       "   RespondentID Do you typically check a daily weather report?  \\\n",
       "0    3887201482                                            Yes   \n",
       "1    3887159451                                            Yes   \n",
       "2    3887152228                                            Yes   \n",
       "3    3887145426                                            Yes   \n",
       "4    3887021873                                            Yes   \n",
       "\n",
       "             How do you typically check the weather?  \\\n",
       "0              The default weather app on your phone   \n",
       "1              The default weather app on your phone   \n",
       "2              The default weather app on your phone   \n",
       "3              The default weather app on your phone   \n",
       "4  A specific website or app (please provide the ...   \n",
       "\n",
       "  A specific website or app (please provide the answer)  \\\n",
       "0                                                  -      \n",
       "1                                                  -      \n",
       "2                                                  -      \n",
       "3                                                  -      \n",
       "4                                         Iphone app      \n",
       "\n",
       "  If you had a smartwatch (like the soon to be released Apple Watch), how likely or unlikely would you be to check the weather on that device?  \\\n",
       "0                                        Very likely                                                                                             \n",
       "1                                        Very likely                                                                                             \n",
       "2                                        Very likely                                                                                             \n",
       "3                                    Somewhat likely                                                                                             \n",
       "4                                        Very likely                                                                                             \n",
       "\n",
       "       Age What is your gender?  \\\n",
       "0  30 - 44                 Male   \n",
       "1  18 - 29                 Male   \n",
       "2  30 - 44                 Male   \n",
       "3  30 - 44                 Male   \n",
       "4  30 - 44                 Male   \n",
       "\n",
       "  How much total combined money did all members of your HOUSEHOLD earn last year?  \\\n",
       "0                                 $50,000 to $74,999                                \n",
       "1                               Prefer not to answer                                \n",
       "2                               $100,000 to $124,999                                \n",
       "3                               Prefer not to answer                                \n",
       "4                               $150,000 to $174,999                                \n",
       "\n",
       "         US Region  \n",
       "0   South Atlantic  \n",
       "1                -  \n",
       "2  Middle Atlantic  \n",
       "3                -  \n",
       "4  Middle Atlantic  "
      ]
     },
     "execution_count": 10,
     "metadata": {},
     "output_type": "execute_result"
    }
   ],
   "source": [
    "weather.head()"
   ]
  },
  {
   "cell_type": "code",
   "execution_count": 11,
   "metadata": {},
   "outputs": [
    {
     "data": {
      "text/plain": [
       "Female    527\n",
       "Male      389\n",
       "-          12\n",
       "Name: What is your gender?, dtype: int64"
      ]
     },
     "execution_count": 11,
     "metadata": {},
     "output_type": "execute_result"
    }
   ],
   "source": [
    "weather['What is your gender?'].value_counts()"
   ]
  },
  {
   "cell_type": "code",
   "execution_count": 27,
   "metadata": {},
   "outputs": [
    {
     "data": {
      "text/html": [
       "<div>\n",
       "<style scoped>\n",
       "    .dataframe tbody tr th:only-of-type {\n",
       "        vertical-align: middle;\n",
       "    }\n",
       "\n",
       "    .dataframe tbody tr th {\n",
       "        vertical-align: top;\n",
       "    }\n",
       "\n",
       "    .dataframe thead th {\n",
       "        text-align: right;\n",
       "    }\n",
       "</style>\n",
       "<table border=\"1\" class=\"dataframe\">\n",
       "  <thead>\n",
       "    <tr style=\"text-align: right;\">\n",
       "      <th></th>\n",
       "      <th>RespondentID</th>\n",
       "      <th>Do you typically check a daily weather report?</th>\n",
       "      <th>How do you typically check the weather?</th>\n",
       "      <th>A specific website or app (please provide the answer)</th>\n",
       "      <th>watch?</th>\n",
       "      <th>Age</th>\n",
       "      <th>What is your gender?</th>\n",
       "      <th>How much total combined money did all members of your HOUSEHOLD earn last year?</th>\n",
       "      <th>US Region</th>\n",
       "    </tr>\n",
       "  </thead>\n",
       "  <tbody>\n",
       "    <tr>\n",
       "      <th>0</th>\n",
       "      <td>3887201482</td>\n",
       "      <td>Yes</td>\n",
       "      <td>The default weather app on your phone</td>\n",
       "      <td>-</td>\n",
       "      <td>Very likely</td>\n",
       "      <td>30 - 44</td>\n",
       "      <td>Male</td>\n",
       "      <td>$50,000 to $74,999</td>\n",
       "      <td>South Atlantic</td>\n",
       "    </tr>\n",
       "    <tr>\n",
       "      <th>1</th>\n",
       "      <td>3887159451</td>\n",
       "      <td>Yes</td>\n",
       "      <td>The default weather app on your phone</td>\n",
       "      <td>-</td>\n",
       "      <td>Very likely</td>\n",
       "      <td>18 - 29</td>\n",
       "      <td>Male</td>\n",
       "      <td>Prefer not to answer</td>\n",
       "      <td>-</td>\n",
       "    </tr>\n",
       "    <tr>\n",
       "      <th>2</th>\n",
       "      <td>3887152228</td>\n",
       "      <td>Yes</td>\n",
       "      <td>The default weather app on your phone</td>\n",
       "      <td>-</td>\n",
       "      <td>Very likely</td>\n",
       "      <td>30 - 44</td>\n",
       "      <td>Male</td>\n",
       "      <td>$100,000 to $124,999</td>\n",
       "      <td>Middle Atlantic</td>\n",
       "    </tr>\n",
       "    <tr>\n",
       "      <th>3</th>\n",
       "      <td>3887145426</td>\n",
       "      <td>Yes</td>\n",
       "      <td>The default weather app on your phone</td>\n",
       "      <td>-</td>\n",
       "      <td>Somewhat likely</td>\n",
       "      <td>30 - 44</td>\n",
       "      <td>Male</td>\n",
       "      <td>Prefer not to answer</td>\n",
       "      <td>-</td>\n",
       "    </tr>\n",
       "    <tr>\n",
       "      <th>4</th>\n",
       "      <td>3887021873</td>\n",
       "      <td>Yes</td>\n",
       "      <td>A specific website or app (please provide the ...</td>\n",
       "      <td>Iphone app</td>\n",
       "      <td>Very likely</td>\n",
       "      <td>30 - 44</td>\n",
       "      <td>Male</td>\n",
       "      <td>$150,000 to $174,999</td>\n",
       "      <td>Middle Atlantic</td>\n",
       "    </tr>\n",
       "  </tbody>\n",
       "</table>\n",
       "</div>"
      ],
      "text/plain": [
       "   RespondentID Do you typically check a daily weather report?  \\\n",
       "0    3887201482                                            Yes   \n",
       "1    3887159451                                            Yes   \n",
       "2    3887152228                                            Yes   \n",
       "3    3887145426                                            Yes   \n",
       "4    3887021873                                            Yes   \n",
       "\n",
       "             How do you typically check the weather?  \\\n",
       "0              The default weather app on your phone   \n",
       "1              The default weather app on your phone   \n",
       "2              The default weather app on your phone   \n",
       "3              The default weather app on your phone   \n",
       "4  A specific website or app (please provide the ...   \n",
       "\n",
       "  A specific website or app (please provide the answer)           watch?  \\\n",
       "0                                                  -         Very likely   \n",
       "1                                                  -         Very likely   \n",
       "2                                                  -         Very likely   \n",
       "3                                                  -     Somewhat likely   \n",
       "4                                         Iphone app         Very likely   \n",
       "\n",
       "       Age What is your gender?  \\\n",
       "0  30 - 44                 Male   \n",
       "1  18 - 29                 Male   \n",
       "2  30 - 44                 Male   \n",
       "3  30 - 44                 Male   \n",
       "4  30 - 44                 Male   \n",
       "\n",
       "  How much total combined money did all members of your HOUSEHOLD earn last year?  \\\n",
       "0                                 $50,000 to $74,999                                \n",
       "1                               Prefer not to answer                                \n",
       "2                               $100,000 to $124,999                                \n",
       "3                               Prefer not to answer                                \n",
       "4                               $150,000 to $174,999                                \n",
       "\n",
       "         US Region  \n",
       "0   South Atlantic  \n",
       "1                -  \n",
       "2  Middle Atlantic  \n",
       "3                -  \n",
       "4  Middle Atlantic  "
      ]
     },
     "execution_count": 27,
     "metadata": {},
     "output_type": "execute_result"
    }
   ],
   "source": [
    "# Let's take the 'if you had a smartwatch' column as our target\n",
    "# ... and rename it.\n",
    "weather.rename({'\\n''If you had a smartwatch (like the soon to be released Apple Watch), how likely or unlikely would you be to check the weather on that device?': 'watch?'},\n",
    "                axis=1, inplace=True)\n",
    "weather.head()\n"
   ]
  },
  {
   "cell_type": "code",
   "execution_count": 24,
   "metadata": {},
   "outputs": [],
   "source": [
    "# Let's look at the different values of this column.\n",
    "\n"
   ]
  },
  {
   "cell_type": "code",
   "execution_count": 12,
   "metadata": {},
   "outputs": [],
   "source": [
    "# Let's build a dictionary and replace these text\n",
    "# values with numbers. We'll go ahead and fill\n",
    "# nulls with 0. (Is this a good idea in this case?)\n",
    "watch_dict = {'very likely': 4, 'somewhat likely': 3, 'somewhat unlikely': 2, 'very unlikely': 1}\n"
   ]
  },
  {
   "cell_type": "code",
   "execution_count": 5,
   "metadata": {},
   "outputs": [],
   "source": [
    "# Let's do the same thing with the 'what is your gender'\n",
    "# column: rename and remap\n",
    "\n"
   ]
  },
  {
   "cell_type": "code",
   "execution_count": 6,
   "metadata": {},
   "outputs": [],
   "source": [
    "# values\n",
    "\n"
   ]
  },
  {
   "cell_type": "code",
   "execution_count": 7,
   "metadata": {},
   "outputs": [],
   "source": [
    "# remap\n",
    "\n"
   ]
  },
  {
   "cell_type": "code",
   "execution_count": 8,
   "metadata": {},
   "outputs": [],
   "source": [
    "# Age column: check values\n",
    "\n"
   ]
  },
  {
   "cell_type": "code",
   "execution_count": 9,
   "metadata": {},
   "outputs": [],
   "source": [
    "# Let's replace these values\n",
    "# with numbers also. We'll fill\n",
    "# in nulls with 0. Is this\n",
    "# appropriate in this case?\n",
    "\n",
    "\n"
   ]
  },
  {
   "cell_type": "code",
   "execution_count": 34,
   "metadata": {},
   "outputs": [],
   "source": [
    "# Let's use gender and age as our predictors.\n",
    "# Our target will be 'watch'.\n",
    "X = weather[['Age', 'What is your gender?']]\n",
    "y = weather[['If you had a smartwatch (like the soon to be released Apple Watch), how likely or unlikely would you be to check the weather on that device?']]\n",
    "\n"
   ]
  },
  {
   "cell_type": "code",
   "execution_count": 11,
   "metadata": {},
   "outputs": [],
   "source": [
    "# Train-test splitting\n",
    "\n",
    "\n"
   ]
  },
  {
   "cell_type": "code",
   "execution_count": 12,
   "metadata": {},
   "outputs": [],
   "source": [
    "# Now let's fit a knn classifier to our training data\n",
    "# I had the best luck with p=100, n_neighbors=1\n",
    "knn = \n"
   ]
  },
  {
   "cell_type": "code",
   "execution_count": 13,
   "metadata": {},
   "outputs": [],
   "source": [
    "# We can score it on our test set.\n",
    "# What is the score here?\n",
    "\n"
   ]
  },
  {
   "cell_type": "code",
   "execution_count": null,
   "metadata": {},
   "outputs": [],
   "source": [
    "# Let's use the predict_proba() method on a possible input\n",
    "\n"
   ]
  },
  {
   "cell_type": "code",
   "execution_count": null,
   "metadata": {},
   "outputs": [],
   "source": [
    "# Let's import the confusion matrix metric and construct\n",
    "# a matrix for our data\n",
    "\n"
   ]
  },
  {
   "cell_type": "code",
   "execution_count": 14,
   "metadata": {},
   "outputs": [
    {
     "data": {
      "text/plain": [
       "0.45689655172413796"
      ]
     },
     "execution_count": 14,
     "metadata": {},
     "output_type": "execute_result"
    }
   ],
   "source": [
    "106 / 232"
   ]
  },
  {
   "cell_type": "markdown",
   "metadata": {},
   "source": [
    "## Now: Question: How the heck did this work?\n",
    "\n",
    "More precisely:\n",
    "- What are these different parameters? (Especially: 'metric', 'p',\n",
    "    'weights', and 'n_neighbors')\n",
    "- How is distance calculated? (What is 'Minkowski'?)"
   ]
  },
  {
   "cell_type": "code",
   "execution_count": null,
   "metadata": {},
   "outputs": [],
   "source": []
  }
 ],
 "metadata": {
  "kernelspec": {
   "display_name": "Python 3",
   "language": "python",
   "name": "python3"
  },
  "language_info": {
   "codemirror_mode": {
    "name": "ipython",
    "version": 3
   },
   "file_extension": ".py",
   "mimetype": "text/x-python",
   "name": "python",
   "nbconvert_exporter": "python",
   "pygments_lexer": "ipython3",
   "version": "3.6.6"
  }
 },
 "nbformat": 4,
 "nbformat_minor": 2
}
